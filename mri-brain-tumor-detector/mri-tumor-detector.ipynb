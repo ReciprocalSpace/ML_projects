{
 "cells": [
  {
   "cell_type": "code",
   "execution_count": 1,
   "metadata": {
    "execution": {
     "iopub.execute_input": "2022-02-18T13:01:49.811955Z",
     "iopub.status.busy": "2022-02-18T13:01:49.811457Z",
     "iopub.status.idle": "2022-02-18T13:01:52.707208Z",
     "shell.execute_reply": "2022-02-18T13:01:52.706480Z",
     "shell.execute_reply.started": "2022-02-18T13:01:49.811919Z"
    }
   },
   "outputs": [],
   "source": [
    "from collections import OrderedDict\n",
    "import numpy as np\n",
    "import pandas as pd\n",
    "from pathlib import Path\n",
    "\n",
    "from tqdm.notebook import tqdm\n",
    "\n",
    "import cv2 as cv\n",
    "import matplotlib.pyplot as plt\n",
    "\n",
    "import torch\n",
    "from torch import nn\n",
    "from torch import optim\n",
    "from torch.utils.data import Dataset, DataLoader, random_split\n",
    "from torchvision import transforms\n",
    "from torchvision import models\n",
    "from PIL import Image\n",
    "\n",
    "from sklearn import metrics\n",
    "\n",
    "import matplotlib.pyplot as plt"
   ]
  },
  {
   "cell_type": "markdown",
   "metadata": {},
   "source": [
    "# Introduction\n",
    "\n",
    "Magnetic resonance imaging is one\n",
    "\n",
    "## Plan\n",
    "\n",
    "1) "
   ]
  },
  {
   "cell_type": "code",
   "execution_count": 17,
   "metadata": {
    "execution": {
     "iopub.execute_input": "2022-02-18T13:09:26.978679Z",
     "iopub.status.busy": "2022-02-18T13:09:26.978422Z",
     "iopub.status.idle": "2022-02-18T13:09:26.988135Z",
     "shell.execute_reply": "2022-02-18T13:09:26.987379Z",
     "shell.execute_reply.started": "2022-02-18T13:09:26.978649Z"
    }
   },
   "outputs": [],
   "source": [
    "class MRNet(nn.Module):\n",
    "    def __init__(self, depth=3, width=128, dropout=0.2, base_model=\"resnet18\"):\n",
    "        \"\"\"\n",
    "        This constructor takes a pretrained resnet18 model and replaces the last layer by a custom neural net with\n",
    "        four layers seperated by dropout layers.\n",
    "        \"\"\"\n",
    "        super(MRNet, self).__init__()\n",
    "        \n",
    "        if base_model == \"resnet18\":\n",
    "            self.model = models.resnet18(pretrained=True)\n",
    "            nn_output = 512\n",
    "        \n",
    "        elif base_model == \"resnet50\":\n",
    "            self.model = models.resnet50(pretrained=True)\n",
    "            nn_output = 2048\n",
    "        else:\n",
    "            raise NotImplementedError\n",
    "            \n",
    "        for param in self.model.parameters():\n",
    "            param.requires_grad = False\n",
    "\n",
    "        # New nn\n",
    "        dic = OrderedDict()\n",
    "        for i in range(depth):\n",
    "            if i==0:\n",
    "                dic[f\"lin{i+1}\"] = nn.Linear(nn_output, width)\n",
    "            else:\n",
    "                dic[f\"lin{i+1}\"] = nn.Linear(width, width)\n",
    "            dic[f'relu{i+1}'] = nn.ReLU()\n",
    "            dic[f'drop{i+1}'] = nn.Dropout(dropout)\n",
    "        dic[f'lin{i+2}'] = nn.Linear(width, 2)\n",
    "\n",
    "        self.model.fc = nn.Sequential(dic)\n",
    "\n",
    "    def forward(self, x):\n",
    "        return self.model(x)\n"
   ]
  },
  {
   "cell_type": "code",
   "execution_count": 4,
   "metadata": {
    "execution": {
     "iopub.execute_input": "2022-02-18T13:01:52.975133Z",
     "iopub.status.busy": "2022-02-18T13:01:52.974656Z",
     "iopub.status.idle": "2022-02-18T13:01:52.986595Z",
     "shell.execute_reply": "2022-02-18T13:01:52.985701Z",
     "shell.execute_reply.started": "2022-02-18T13:01:52.975097Z"
    }
   },
   "outputs": [],
   "source": [
    "class MRIDataset(Dataset):\n",
    "    def __init__(self, csv_file_path, root_dir, transform):\n",
    "        # Saves the entire database : it is relatively small\n",
    "        self.mri_database = pd.read_csv(csv_file_path)\n",
    "        self.images = []\n",
    "        self.labels = []\n",
    "\n",
    "        for i in self.mri_database.index:\n",
    "            image_path = root_dir / self.mri_database[\"image_path\"][i]\n",
    "            mask = self.mri_database[\"mask\"][i]\n",
    "            self.images.append(Image.open(image_path))\n",
    "            self.labels.append(mask)\n",
    "\n",
    "        self.labels = torch.tensor(self.labels)\n",
    "\n",
    "        self.root_dir = root_dir\n",
    "        self.transform = transform\n",
    "\n",
    "    def __len__(self):\n",
    "        return len(self.mri_database)\n",
    "\n",
    "    def __getitem__(self, item):\n",
    "        return self.transform(self.images[item]), self.labels[item]\n",
    "    \n",
    "    def show(self, item):\n",
    "        im, label = self[item]\n",
    "        im = im.permute(1, 2, 0).numpy() \n",
    "        mean = np.array([0.485, 0.456, 0.406])\n",
    "        std = np.array([0.229, 0.224, 0.225])\n",
    "        im = std * im + mean\n",
    "        im = np.clip(im, 0, 1)\n",
    "\n",
    "        plt.imshow(im)\n",
    "        plt.title(f\"Label: {'tumor' if label else 'no tumor'}\")\n",
    "        plt.axis('off')\n",
    "        plt.show()\n",
    "\n"
   ]
  },
  {
   "cell_type": "code",
   "execution_count": 31,
   "metadata": {
    "execution": {
     "iopub.execute_input": "2022-02-18T14:11:03.222678Z",
     "iopub.status.busy": "2022-02-18T14:11:03.222422Z",
     "iopub.status.idle": "2022-02-18T14:11:03.255795Z",
     "shell.execute_reply": "2022-02-18T14:11:03.255097Z",
     "shell.execute_reply.started": "2022-02-18T14:11:03.222650Z"
    }
   },
   "outputs": [],
   "source": [
    "class MRNetTrainer:\n",
    "#     model, optimizer, criterion, device, lr_scheduler, path_model_checkpoint, False\n",
    "    def __init__(self, model, optimizer, criterion, device, lr_scheduler=None, \n",
    "                 path_best_model: Path = None, path_model_checkpoint: Path = None, from_checkpoint = True):\n",
    "        self.path_model_checkpoint = path_model_checkpoint\n",
    "        self.best_model_path = path_best_model\n",
    "        self.model = model\n",
    "        self.optimizer = optimizer\n",
    "        self.criterion = criterion\n",
    "        self.device = device\n",
    "        self.lr_scheduler = lr_scheduler\n",
    "\n",
    "        self.epoch = 0\n",
    "\n",
    "        self.loss = []\n",
    "        self.metrics = []\n",
    "\n",
    "        # Check if model already exists\n",
    "        if from_checkpoint:\n",
    "            if path_model_checkpoint.is_file():\n",
    "                self.load_checkpoint()\n",
    "\n",
    "    def save_checkpoint(self):\n",
    "        checkpoint_data = {'epoch': self.epoch,\n",
    "                           'model_state_dict': self.model.state_dict(),\n",
    "                           'optimizer_state_dict': self.optimizer.state_dict(),\n",
    "                           'loss': self.loss,\n",
    "                           'metrics': self.metrics,\n",
    "                           }\n",
    "\n",
    "        torch.save(checkpoint_data, self.path_model_checkpoint)\n",
    "        \n",
    "    def _save_if_best(self):\n",
    "        # \"Best\" defined by f1 score on \"tumor\" class detection\n",
    "        recall = np.array([x[\"recall\"][1] for x in  self.metrics])\n",
    "        precision =  np.array([x[\"precision\"][1] for x in  self.metrics])\n",
    "        f_score = 2*recall*precision/(recall+precision + 1e-6)\n",
    "        if f_score[-1] == np.max(f_score):\n",
    "            torch.save({'model_state_dict': self.model.state_dict()}, self.best_model_path)\n",
    "            \n",
    "    def load_checkpoint(self):\n",
    "        checkpoint = torch.load(self.path_model_checkpoint)\n",
    "\n",
    "        self.epoch = checkpoint[\"epoch\"]\n",
    "        self.model.load_state_dict(checkpoint[\"model_state_dict\"])\n",
    "        self.optimizer.load_state_dict(checkpoint[\"optimizer_state_dict\"])\n",
    "        self.loss = checkpoint[\"loss\"]\n",
    "        self.metrics = checkpoint[\"metrics\"]\n",
    "        \n",
    "        print(f\"Model updated using parameters from: {self.path_model_checkpoint}\")\n",
    "\n",
    "    def train(self, train_loader, validation_loader, n_epochs, verbose=False,):\n",
    "        # Loop through epochs\n",
    "        for epoch in tqdm(range(n_epochs),  desc=\"Epochs\"):\n",
    "            loss_sublist = []\n",
    "\n",
    "            # Training\n",
    "            self.model.train()\n",
    "            for x, y in train_loader:\n",
    "                self.optimizer.zero_grad()\n",
    "                \n",
    "                x, y = x.to(self.device), y.to(self.device)\n",
    "                out = self.model(x)\n",
    "                \n",
    "                loss = self.criterion(out, y)\n",
    "                loss.backward()\n",
    "                self.optimizer.step()\n",
    "                \n",
    "                loss_sublist.append(loss.data.item())\n",
    "                \n",
    "            self.loss.append(np.mean(loss_sublist))\n",
    "            if self.lr_scheduler:\n",
    "                self.lr_scheduler.step()\n",
    "            \n",
    "            \n",
    "            # Model evaluation\n",
    "            self.model.eval()\n",
    "            predictions = []\n",
    "            ground_truths = []\n",
    "            for x, y in validation_loader:\n",
    "                x, y = x.to(self.device), y.to(self.device)\n",
    "                out = self.model(x)\n",
    "                predictions.append(out.cpu().data.numpy().argmax(axis=1))\n",
    "                ground_truths.append(y.cpu().numpy())\n",
    "\n",
    "            ground_truths = np.array(ground_truths).flatten()\n",
    "            predictions = np.array(predictions).flatten()\n",
    "\n",
    "            confusion_matrix = metrics.confusion_matrix(ground_truths, predictions, labels=[0, 1])\n",
    "\n",
    "            eps = 1e-6  # To avoid zero divide\n",
    "            accuracy = np.trace(confusion_matrix) / (np.sum(confusion_matrix) + eps)\n",
    "            recall = np.diag(confusion_matrix) / (np.sum(confusion_matrix, axis=0) + eps)\n",
    "            precision = np.diag(confusion_matrix) / (np.sum(confusion_matrix, axis=1) + eps)\n",
    "\n",
    "            self.metrics.append({'accuracy': accuracy,\n",
    "                                 'recall': recall,\n",
    "                                 'precision': precision})\n",
    "            self.epoch += 1\n",
    "            self.save_checkpoint()\n",
    "            self._save_if_best()\n",
    "            \n",
    "            if verbose:\n",
    "                print(\"*\"*25)\n",
    "                print(f\"Summary epoch {self.epoch}:\")\n",
    "                print(f\"----Loss:     \\t{self.loss[-1]:.3f} \")\n",
    "                print(f\"----Acc:      \\t{self.metrics[-1]['accuracy']:.3f}\")\n",
    "                print(f\"----Recall:   \\t{np.round(self.metrics[-1]['recall'],3)}\")\n",
    "                print(f\"----Precision:\\t{np.round(self.metrics[-1]['precision'],3)}\")\n",
    "                print(\"----Confusion matrix:\")\n",
    "                print(confusion_matrix)\n",
    "\n",
    "    def report(self, title=None):\n",
    "        \"\"\"\n",
    "        Make a reporting with three plots :\n",
    "            1) loss and accuracy VS epoch\n",
    "            2) \"No tumor\" label: Recall VS Precision as a function of epoch\n",
    "            3)  \"Tumor\"   label: Recall VS Presision as a function of epoch\n",
    "        \"\"\"\n",
    "        \n",
    "        los = self.loss\n",
    "        acc = np.array([x['accuracy'] for x in self.metrics])\n",
    "        rec = np.array([x['recall'] for x in self.metrics])\n",
    "        pre = np.array([x['precision'] for x in self.metrics])\n",
    "\n",
    "        fig, ax = plt.subplots(1, 3, figsize=(26/2.54, 8/2.54))\n",
    "        color = 'tab:red'\n",
    "        ax[0].plot(los, \"-o\", color=color)\n",
    "        ax[0].set_ylabel(\"Loss\")\n",
    "        ax[0].set_xlabel(\"Epoch\")\n",
    "\n",
    "        ax2 = ax[0].twinx()\n",
    "        color = 'tab:blue'\n",
    "        ax2.set_ylabel('Accuracy', color = color,)  # we already handled the x-label with ax1\n",
    "        ax2.plot(acc, \"-o\", color = color)\n",
    "        ax2.tick_params(axis = 'y', color = color)\n",
    "\n",
    "        ax[1].plot(rec[:,0], pre[:,0], label=\"No tumor\")\n",
    "        ax[1].scatter(rec[:,0], pre[:,0], c=np.linspace(0,1,self.epoch), cmap= \"viridis\")\n",
    "        ax[1].set_xlim(0,1)\n",
    "        ax[1].set_ylim(0,1)\n",
    "        ax[1].set_xlabel(\"Recall\")\n",
    "        ax[1].set_ylabel(\"Precision\")\n",
    "        ax[1].legend()\n",
    "\n",
    "        ax[2].plot(rec[:,1], pre[:,1], label=\"Tumor\")\n",
    "        ax[2].scatter(rec[:,1], pre[:,1],c=np.linspace(0,1,self.epoch), cmap= \"viridis\")\n",
    "        ax[2].set_xlim(0,1)\n",
    "        ax[2].set_ylim(0,1)\n",
    "        ax[2].set_xlabel(\"Recall\")\n",
    "        ax[2].set_ylabel(\"Precision\")\n",
    "        ax[2].legend()\n",
    "        \n",
    "        if title:\n",
    "            fig.suptitle(title)\n",
    "\n",
    "        plt.tight_layout()\n",
    "        plt.show()\n",
    "        \n",
    "        \n",
    "        "
   ]
  },
  {
   "cell_type": "code",
   "execution_count": 12,
   "metadata": {
    "execution": {
     "iopub.execute_input": "2022-02-18T13:07:03.854029Z",
     "iopub.status.busy": "2022-02-18T13:07:03.853751Z",
     "iopub.status.idle": "2022-02-18T13:07:03.860344Z",
     "shell.execute_reply": "2022-02-18T13:07:03.859399Z",
     "shell.execute_reply.started": "2022-02-18T13:07:03.853997Z"
    }
   },
   "outputs": [],
   "source": [
    "root = Path(\"../input/mridata/\")\n",
    "path_db = Path(\"../input/mridata/database.csv\")\n",
    "path_model_checkpoint = Path(\"./model_checkpoint.pt\")\n",
    "path_best_model = Path(\"./model_best.pt\")\n",
    "# Hyperparameter selection\n",
    "\n",
    "# NN Model\n",
    "base_nn = \"resnet50\"\n",
    "depth = 4\n",
    "width = 256\n",
    "dropout = 0.2\n",
    "\n",
    "# Dataset\n",
    "batch_size = 32\n",
    "\n",
    "# optimizer : Adam\n",
    "lr = 0.0002\n",
    "betas = (0.9, 0,99)\n",
    "\n",
    "# Algorithm\n",
    "epochs = 25\n",
    "\n"
   ]
  },
  {
   "cell_type": "code",
   "execution_count": 7,
   "metadata": {
    "execution": {
     "iopub.execute_input": "2022-02-18T13:01:57.828909Z",
     "iopub.status.busy": "2022-02-18T13:01:57.828319Z",
     "iopub.status.idle": "2022-02-18T13:02:35.614667Z",
     "shell.execute_reply": "2022-02-18T13:02:35.613974Z",
     "shell.execute_reply.started": "2022-02-18T13:01:57.828871Z"
    }
   },
   "outputs": [],
   "source": [
    "# Dataset\n",
    "# Data preprocessing and augmentation consistent with MRI data images\n",
    "augmented_transform = transforms.Compose([\n",
    "    transforms.Resize((224, 224)),\n",
    "    transforms.RandomAffine(degrees=20, translate=(0.05, 0.05)),\n",
    "    transforms.RandomHorizontalFlip(),\n",
    "    transforms.ToTensor(),\n",
    "    transforms.Normalize(mean=[0.485, 0.456, 0.406], std=[0.229, 0.224, 0.225]),\n",
    "])\n",
    "mri_dataset = MRIDataset(path_db, root, augmented_transform)\n",
    "mri_dataset.show(5)"
   ]
  },
  {
   "cell_type": "code",
   "execution_count": 13,
   "metadata": {
    "execution": {
     "iopub.execute_input": "2022-02-18T13:07:06.196005Z",
     "iopub.status.busy": "2022-02-18T13:07:06.195742Z",
     "iopub.status.idle": "2022-02-18T13:07:06.203351Z",
     "shell.execute_reply": "2022-02-18T13:07:06.202448Z",
     "shell.execute_reply.started": "2022-02-18T13:07:06.195975Z"
    }
   },
   "outputs": [],
   "source": [
    "# To avoid data leakage between the train_set and the valid_set between training sessions,\n",
    "# DO NOT change the seed !\n",
    "train_set_size = int(len(mri_dataset) * 0.85)\n",
    "valid_set_size = len(mri_dataset) - train_set_size\n",
    "\n",
    "train_set, valid_set = random_split(mri_dataset, [train_set_size, valid_set_size],\n",
    "                                    generator=torch.Generator().manual_seed(42))\n",
    "\n",
    "train_loader = DataLoader(dataset=train_set, batch_size=batch_size, shuffle=True)\n",
    "validation_loader = DataLoader(dataset=valid_set, batch_size=1)"
   ]
  },
  {
   "cell_type": "code",
   "execution_count": 32,
   "metadata": {
    "collapsed": true,
    "execution": {
     "iopub.execute_input": "2022-02-18T14:11:25.734652Z",
     "iopub.status.busy": "2022-02-18T14:11:25.734369Z",
     "iopub.status.idle": "2022-02-18T14:11:26.384710Z",
     "shell.execute_reply": "2022-02-18T14:11:26.383982Z",
     "shell.execute_reply.started": "2022-02-18T14:11:25.734624Z"
    },
    "jupyter": {
     "outputs_hidden": true
    }
   },
   "outputs": [],
   "source": [
    "device = torch.device(\"cuda:0\" if torch.cuda.is_available() else \"cpu\")\n",
    "\n",
    "model = MRNet(depth=depth, width=width, dropout=dropout, base_model= base_nn)\n",
    "print(model.to(device))\n",
    "# optimizer = optim.SGD(model.parameters(), lr=lr, momentum=momentum)\n",
    "optimizer = optim.Adam(model.parameters(), lr=lr, betas=betas)\n",
    "# lr_scheduler = optim.lr_scheduler.CyclicLR(optimizer, base_lr=base_lr, max_lr=max_lr, step_size_up=5, mode=\"triangular2\")\n",
    "lr_scheduler = None\n",
    "criterion = nn.CrossEntropyLoss()\n",
    "\n",
    "mri_net_trainer = MRNetTrainer(model, optimizer, criterion, device, lr_scheduler, path_best_model, path_model_checkpoint, True)\n"
   ]
  },
  {
   "cell_type": "code",
   "execution_count": 35,
   "metadata": {
    "collapsed": true,
    "execution": {
     "iopub.execute_input": "2022-02-18T14:18:03.038758Z",
     "iopub.status.busy": "2022-02-18T14:18:03.037966Z",
     "iopub.status.idle": "2022-02-18T14:24:05.866865Z",
     "shell.execute_reply": "2022-02-18T14:24:05.866066Z",
     "shell.execute_reply.started": "2022-02-18T14:18:03.038707Z"
    },
    "jupyter": {
     "outputs_hidden": true
    }
   },
   "outputs": [],
   "source": [
    "mri_net_trainer.train(train_loader, validation_loader, 20, True)"
   ]
  },
  {
   "cell_type": "code",
   "execution_count": 36,
   "metadata": {
    "execution": {
     "iopub.execute_input": "2022-02-18T14:24:05.869219Z",
     "iopub.status.busy": "2022-02-18T14:24:05.868773Z",
     "iopub.status.idle": "2022-02-18T14:24:06.510570Z",
     "shell.execute_reply": "2022-02-18T14:24:06.509878Z",
     "shell.execute_reply.started": "2022-02-18T14:24:05.869171Z"
    }
   },
   "outputs": [],
   "source": [
    "mri_net_trainer.report()"
   ]
  },
  {
   "cell_type": "code",
   "execution_count": 50,
   "metadata": {
    "execution": {
     "iopub.execute_input": "2022-02-18T10:15:34.992090Z",
     "iopub.status.busy": "2022-02-18T10:15:34.991504Z",
     "iopub.status.idle": "2022-02-18T10:15:35.005966Z",
     "shell.execute_reply": "2022-02-18T10:15:35.005223Z",
     "shell.execute_reply.started": "2022-02-18T10:15:34.992053Z"
    }
   },
   "outputs": [],
   "source": [
    "def training_VS_parameters(name, depth, width, dropout, base_nn, mri_dataset, batch_size, lr, betas, epochs):\n",
    "    path_model_checkpoint = Path(f\"./{name}_model_checkpoint.pt\")\n",
    "    path_model_best = Path(f\"./{name}_model_best.pt\")\n",
    "    \n",
    "    # Model\n",
    "    model = MRNet(depth, width, dropout, base_nn)\n",
    "    model.to(device)\n",
    "    \n",
    "    # Dataset\n",
    "    train_set_size = int(len(mri_dataset) * 0.85)\n",
    "    valid_set_size = len(mri_dataset) - train_set_size\n",
    "    train_set, valid_set = random_split(mri_dataset, [train_set_size, valid_set_size],\n",
    "                                        generator=torch.Generator().manual_seed(42))\n",
    "    \n",
    "    train_loader = DataLoader(dataset=train_set, batch_size=batch_size, shuffle=True)\n",
    "    validation_loader = DataLoader(dataset=valid_set, batch_size=1)\n",
    "\n",
    "    optimizer = optim.Adam(model.parameters(), lr=lr, betas=betas)\n",
    "    criterion = nn.CrossEntropyLoss()\n",
    "\n",
    "    mri_net_trainer = MRNetTrainer(model, optimizer, criterion, device, lr_scheduler, path_model_best, path_model_checkpoint, False)\n",
    "    mri_net_trainer.train(train_loader, validation_loader, epochs, False)\n",
    "    mri_net_trainer.report()\n",
    "    \n",
    "    with open(Path(\"./experiment_report.txt\"), 'a') as datafile:\n",
    "        datafile.write(\"-\"*32+\"\\n\")\n",
    "        datafile.write(f\"name: {name}\\n\")\n",
    "        datafile.write(f\"model_best: {path_model_best}\\n\")\n",
    "        datafile.write(f\"model_checkpoint: {path_model_checkpoint}\\n\")\n",
    "        datafile.write(f\"epochs: {epochs}\\n\")\n",
    "        datafile.write(f\"depth: {depth}\\n\")\n",
    "        datafile.write(f\"width: {width}\\n\")\n",
    "        datafile.write(f\"dropout: {dropout}\\n\")\n",
    "        datafile.write(f\"batch_size: {batch_size}\\n\")\n",
    "        datafile.write(f\"learning_rate: {lr}\\n\")\n",
    "        datafile.write(f\"betas: {betas}\\n\")\n",
    "        \n",
    "        acc = np.array([x[\"accuracy\"] for x in mri_net_trainer.metrics])\n",
    "        rec = np.array([x[\"recall\"] for x in mri_net_trainer.metrics])\n",
    "        pre = np.array([x[\"precision\"] for x in mri_net_trainer.metrics])\n",
    "        \n",
    "        index_best = np.argmax(rec[:,1])\n",
    "        \n",
    "        datafile.write(f\"loss: {mri_net_trainer.loss[index_best]}\\n\")\n",
    "        datafile.write(f\"accuracy: {acc[index_best]}\\n\")\n",
    "        datafile.write(f\"recall: {tuple(np.round(rec[index_best], 3))}\\n\")\n",
    "        datafile.write(f\"precision: {tuple(np.round(pre[index_best],3))}\\n\")\n",
    "        \n",
    "    return mri_net_trainer\n"
   ]
  },
  {
   "cell_type": "code",
   "execution_count": 86,
   "metadata": {
    "execution": {
     "iopub.execute_input": "2022-02-18T15:03:09.699837Z",
     "iopub.status.busy": "2022-02-18T15:03:09.699023Z",
     "iopub.status.idle": "2022-02-18T15:03:11.505174Z",
     "shell.execute_reply": "2022-02-18T15:03:11.504476Z",
     "shell.execute_reply.started": "2022-02-18T15:03:09.699799Z"
    }
   },
   "outputs": [],
   "source": [
    "model_data = torch.load(path_best_model)\n",
    "model = MRNet(depth=depth, width=width, dropout=dropout, base_model= base_nn)\n",
    "model.load_state_dict(model_data[\"model_state_dict\"])\n",
    "model.to(device)\n",
    "model.eval()\n",
    "\n",
    "i=0\n",
    "fig, ax = plt.subplots(1, 5, figsize=(15,10), dpi=100)\n",
    "act = nn.Softmax(0)\n",
    "for x, y in validation_loader:\n",
    "    x = x.to(device)\n",
    "    out = model(x).cpu().detach().view(-1)\n",
    "    z = act(out)\n",
    "    y_hat = torch.argmax(z)\n",
    "    prob = z[y_hat]\n",
    "    \n",
    "    if y_hat != y:\n",
    "        im = x.cpu()[0]\n",
    "        im = im.permute(1, 2, 0).numpy() \n",
    "        mean = np.array([0.485, 0.456, 0.406])\n",
    "        std = np.array([0.229, 0.224, 0.225])\n",
    "        im = std * im + mean\n",
    "        im = np.clip(im, 0, 1)\n",
    "\n",
    "        ax[i].imshow(im)\n",
    "        ax[i].set_title(f\"Label: {'tumor' if y.numpy()[0] else 'no tumor'}\\n Pred: {'tumor' if y_hat.numpy() else 'no tumor'} ({int(prob*100)}%)\")\n",
    "        ax[i].axis('off')\n",
    "        i+=1\n",
    "        \n",
    "    if i>=5:\n",
    "        plt.show()\n",
    "        break\n"
   ]
  },
  {
   "cell_type": "code",
   "execution_count": 47,
   "metadata": {
    "execution": {
     "iopub.execute_input": "2022-02-18T10:08:05.977156Z",
     "iopub.status.busy": "2022-02-18T10:08:05.976891Z",
     "iopub.status.idle": "2022-02-18T10:13:27.321549Z",
     "shell.execute_reply": "2022-02-18T10:13:27.320872Z",
     "shell.execute_reply.started": "2022-02-18T10:08:05.977127Z"
    }
   },
   "outputs": [],
   "source": [
    "training_VS_parameters(name=\"base\", depth=3, width=128, dropout=0.2, base\n",
    "                       mri_dataset=mri_dataset, batch_size=50, \n",
    "                       lr=1e-3, betas=(0.9, 0.999), epochs=25)"
   ]
  },
  {
   "cell_type": "code",
   "execution_count": 51,
   "metadata": {
    "collapsed": true,
    "execution": {
     "iopub.execute_input": "2022-02-18T10:15:45.175332Z",
     "iopub.status.busy": "2022-02-18T10:15:45.175065Z",
     "iopub.status.idle": "2022-02-18T10:20:49.432195Z",
     "shell.execute_reply": "2022-02-18T10:20:49.431515Z",
     "shell.execute_reply.started": "2022-02-18T10:15:45.175303Z"
    },
    "jupyter": {
     "outputs_hidden": true
    }
   },
   "outputs": [],
   "source": [
    "training_VS_parameters(name=\"lr-5e-3\", depth=3, width=128, dropout=0.2, \n",
    "                       mri_dataset=mri_dataset, batch_size=50, \n",
    "                       lr=5e-3, betas=(0.9, 0.999), epochs=25)"
   ]
  },
  {
   "cell_type": "code",
   "execution_count": 52,
   "metadata": {
    "execution": {
     "iopub.execute_input": "2022-02-18T10:20:49.434036Z",
     "iopub.status.busy": "2022-02-18T10:20:49.433712Z",
     "iopub.status.idle": "2022-02-18T10:25:54.341301Z",
     "shell.execute_reply": "2022-02-18T10:25:54.340544Z",
     "shell.execute_reply.started": "2022-02-18T10:20:49.433997Z"
    }
   },
   "outputs": [],
   "source": [
    "training_VS_parameters(name=\"lr-2e-4\", depth=3, width=128, dropout=0.2, \n",
    "                       mri_dataset=mri_dataset, batch_size=50, \n",
    "                       lr=2e-4, betas=(0.9, 0.999), epochs=25)"
   ]
  },
  {
   "cell_type": "code",
   "execution_count": 53,
   "metadata": {
    "execution": {
     "iopub.execute_input": "2022-02-18T10:25:54.342969Z",
     "iopub.status.busy": "2022-02-18T10:25:54.342707Z",
     "iopub.status.idle": "2022-02-18T10:30:57.290343Z",
     "shell.execute_reply": "2022-02-18T10:30:57.289653Z",
     "shell.execute_reply.started": "2022-02-18T10:25:54.342933Z"
    }
   },
   "outputs": [],
   "source": [
    "training_VS_parameters(name=\"betas-09-099\", depth=3, width=128, dropout=0.2, \n",
    "                       mri_dataset=mri_dataset, batch_size=50, \n",
    "                       lr=5e-3, betas=(0.9, 0.99), epochs=25)"
   ]
  },
  {
   "cell_type": "code",
   "execution_count": 54,
   "metadata": {
    "execution": {
     "iopub.execute_input": "2022-02-18T10:30:57.292908Z",
     "iopub.status.busy": "2022-02-18T10:30:57.292623Z",
     "iopub.status.idle": "2022-02-18T10:36:02.827392Z",
     "shell.execute_reply": "2022-02-18T10:36:02.826718Z",
     "shell.execute_reply.started": "2022-02-18T10:30:57.292873Z"
    }
   },
   "outputs": [],
   "source": [
    "training_VS_parameters(name=\"betas-09-09999\", depth=3, width=128, dropout=0.2, \n",
    "                       mri_dataset=mri_dataset, batch_size=50, \n",
    "                       lr=5e-3, betas=(0.9, 0.9999), epochs=25)"
   ]
  },
  {
   "cell_type": "code",
   "execution_count": 55,
   "metadata": {
    "execution": {
     "iopub.execute_input": "2022-02-18T10:36:02.828947Z",
     "iopub.status.busy": "2022-02-18T10:36:02.828522Z",
     "iopub.status.idle": "2022-02-18T10:41:06.100412Z",
     "shell.execute_reply": "2022-02-18T10:41:06.099706Z",
     "shell.execute_reply.started": "2022-02-18T10:36:02.828909Z"
    }
   },
   "outputs": [],
   "source": [
    "training_VS_parameters(name=\"betas-75-0999\", depth=3, width=128, dropout=0.2, \n",
    "                       mri_dataset=mri_dataset, batch_size=50, \n",
    "                       lr=5e-3, betas=(0.75, 0.999), epochs=25)"
   ]
  },
  {
   "cell_type": "code",
   "execution_count": 56,
   "metadata": {
    "execution": {
     "iopub.execute_input": "2022-02-18T10:41:06.101991Z",
     "iopub.status.busy": "2022-02-18T10:41:06.101554Z",
     "iopub.status.idle": "2022-02-18T10:46:10.273410Z",
     "shell.execute_reply": "2022-02-18T10:46:10.272737Z",
     "shell.execute_reply.started": "2022-02-18T10:41:06.101952Z"
    }
   },
   "outputs": [],
   "source": [
    "training_VS_parameters(name=\"betas-095-0999\", depth=3, width=128, dropout=0.2, \n",
    "                       mri_dataset=mri_dataset, batch_size=50, \n",
    "                       lr=5e-3, betas=(0.95, 0.999), epochs=25)"
   ]
  },
  {
   "cell_type": "code",
   "execution_count": 57,
   "metadata": {
    "execution": {
     "iopub.execute_input": "2022-02-18T10:46:10.275151Z",
     "iopub.status.busy": "2022-02-18T10:46:10.274739Z",
     "iopub.status.idle": "2022-02-18T10:51:14.678619Z",
     "shell.execute_reply": "2022-02-18T10:51:14.677847Z",
     "shell.execute_reply.started": "2022-02-18T10:46:10.275112Z"
    }
   },
   "outputs": [],
   "source": [
    "training_VS_parameters(name=\"depth-2\", depth=2, width=128, dropout=0.2, \n",
    "                       mri_dataset=mri_dataset, batch_size=50, \n",
    "                       lr=5e-3, betas=(0.9, 0.999), epochs=25)"
   ]
  },
  {
   "cell_type": "code",
   "execution_count": 58,
   "metadata": {
    "execution": {
     "iopub.execute_input": "2022-02-18T10:51:14.680603Z",
     "iopub.status.busy": "2022-02-18T10:51:14.680151Z",
     "iopub.status.idle": "2022-02-18T10:56:22.243959Z",
     "shell.execute_reply": "2022-02-18T10:56:22.243316Z",
     "shell.execute_reply.started": "2022-02-18T10:51:14.680561Z"
    }
   },
   "outputs": [],
   "source": [
    "training_VS_parameters(name=\"depth-4\", depth=4, width=128, dropout=0.2, \n",
    "                       mri_dataset=mri_dataset, batch_size=50, \n",
    "                       lr=5e-3, betas=(0.9, 0.999), epochs=25) "
   ]
  },
  {
   "cell_type": "code",
   "execution_count": 59,
   "metadata": {
    "execution": {
     "iopub.execute_input": "2022-02-18T10:56:22.248336Z",
     "iopub.status.busy": "2022-02-18T10:56:22.247733Z",
     "iopub.status.idle": "2022-02-18T11:01:28.569422Z",
     "shell.execute_reply": "2022-02-18T11:01:28.568662Z",
     "shell.execute_reply.started": "2022-02-18T10:56:22.248298Z"
    }
   },
   "outputs": [],
   "source": [
    "training_VS_parameters(name=\"batch-25\", depth=3, width=128, dropout=0.2, \n",
    "                       mri_dataset=mri_dataset, batch_size=25, \n",
    "                       lr=1e-3, betas=(0.9, 0.999), epochs=25)"
   ]
  },
  {
   "cell_type": "code",
   "execution_count": 60,
   "metadata": {
    "execution": {
     "iopub.execute_input": "2022-02-18T11:01:28.572467Z",
     "iopub.status.busy": "2022-02-18T11:01:28.572141Z",
     "iopub.status.idle": "2022-02-18T11:06:34.464208Z",
     "shell.execute_reply": "2022-02-18T11:06:34.463532Z",
     "shell.execute_reply.started": "2022-02-18T11:01:28.572429Z"
    }
   },
   "outputs": [],
   "source": [
    "training_VS_parameters(name=\"batch-100\", depth=3, width=128, dropout=0.2, \n",
    "                       mri_dataset=mri_dataset, batch_size=100,\n",
    "                       lr=1e-3, betas=(0.9, 0.999), epochs=25)"
   ]
  },
  {
   "cell_type": "code",
   "execution_count": 61,
   "metadata": {
    "execution": {
     "iopub.execute_input": "2022-02-18T11:06:34.467788Z",
     "iopub.status.busy": "2022-02-18T11:06:34.465395Z",
     "iopub.status.idle": "2022-02-18T11:11:42.398218Z",
     "shell.execute_reply": "2022-02-18T11:11:42.397576Z",
     "shell.execute_reply.started": "2022-02-18T11:06:34.467759Z"
    }
   },
   "outputs": [],
   "source": [
    "training_VS_parameters(name=\"width-64\", depth=3, width=64, dropout=0.2, \n",
    "                       mri_dataset=mri_dataset, batch_size=50, \n",
    "                       lr=1e-3, betas=(0.9, 0.999), epochs=25)"
   ]
  },
  {
   "cell_type": "code",
   "execution_count": 62,
   "metadata": {
    "execution": {
     "iopub.execute_input": "2022-02-18T11:11:42.399699Z",
     "iopub.status.busy": "2022-02-18T11:11:42.399365Z",
     "iopub.status.idle": "2022-02-18T11:16:51.000243Z",
     "shell.execute_reply": "2022-02-18T11:16:50.999516Z",
     "shell.execute_reply.started": "2022-02-18T11:11:42.399648Z"
    }
   },
   "outputs": [],
   "source": [
    "training_VS_parameters(name=\"width-256\", depth=3, width=256, dropout=0.2, \n",
    "                       mri_dataset=mri_dataset, batch_size=50, \n",
    "                       lr=1e-3, betas=(0.9, 0.999), epochs=25)"
   ]
  },
  {
   "cell_type": "code",
   "execution_count": 63,
   "metadata": {
    "execution": {
     "iopub.execute_input": "2022-02-18T11:16:51.002083Z",
     "iopub.status.busy": "2022-02-18T11:16:51.001351Z",
     "iopub.status.idle": "2022-02-18T11:21:59.573419Z",
     "shell.execute_reply": "2022-02-18T11:21:59.572604Z",
     "shell.execute_reply.started": "2022-02-18T11:16:51.002042Z"
    }
   },
   "outputs": [],
   "source": [
    "training_VS_parameters(name=\"dropout-03\", depth=3, width=128, dropout=0.3, \n",
    "                       mri_dataset=mri_dataset, batch_size=50, \n",
    "                       lr=1e-3, betas=(0.9, 0.999), epochs=25)"
   ]
  },
  {
   "cell_type": "code",
   "execution_count": 64,
   "metadata": {
    "execution": {
     "iopub.execute_input": "2022-02-18T11:21:59.574972Z",
     "iopub.status.busy": "2022-02-18T11:21:59.574633Z",
     "iopub.status.idle": "2022-02-18T11:27:09.320985Z",
     "shell.execute_reply": "2022-02-18T11:27:09.320309Z",
     "shell.execute_reply.started": "2022-02-18T11:21:59.574929Z"
    }
   },
   "outputs": [],
   "source": [
    "training_VS_parameters(name=\"dropout-01\", depth=3, width=128, dropout=0.1, \n",
    "                       mri_dataset=mri_dataset, batch_size=50, \n",
    "                       lr=1e-3, betas=(0.9, 0.999), epochs=25)"
   ]
  },
  {
   "cell_type": "code",
   "execution_count": 65,
   "metadata": {
    "execution": {
     "iopub.execute_input": "2022-02-18T11:47:09.413378Z",
     "iopub.status.busy": "2022-02-18T11:47:09.412609Z",
     "iopub.status.idle": "2022-02-18T11:47:12.232480Z",
     "shell.execute_reply": "2022-02-18T11:47:12.231530Z",
     "shell.execute_reply.started": "2022-02-18T11:47:09.413329Z"
    }
   },
   "outputs": [],
   "source": [
    "!jupyter nbconvert --to html your_notebook_name.ipynb"
   ]
  }
 ],
 "metadata": {
  "kernelspec": {
   "display_name": "Python 3",
   "language": "python",
   "name": "python3"
  },
  "language_info": {
   "codemirror_mode": {
    "name": "ipython",
    "version": 3
   },
   "file_extension": ".py",
   "mimetype": "text/x-python",
   "name": "python",
   "nbconvert_exporter": "python",
   "pygments_lexer": "ipython3",
   "version": "3.7.10"
  }
 },
 "nbformat": 4,
 "nbformat_minor": 4
}
