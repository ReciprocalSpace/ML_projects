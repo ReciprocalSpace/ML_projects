{
 "cells": [
  {
   "cell_type": "markdown",
   "id": "b726c67a",
   "metadata": {},
   "source": [
    "# Sentiment analysis of IMDB ratings database\n",
    "\n",
    "This notebook implements several "
   ]
  },
  {
   "cell_type": "code",
   "execution_count": 16,
   "id": "ac346452",
   "metadata": {},
   "outputs": [],
   "source": [
    "import numpy as np\n",
    "from pathlib import Path\n",
    "import pandas as pd\n",
    "import matplotlib.pyplot as plt\n",
    "\n",
    "from sklearn.pipeline import Pipeline\n",
    "from sklearn.feature_extraction.text import CountVectorizer, TfidfTransformer, TfidfVectorizer\n",
    "from sklearn.model_selection import train_test_split\n",
    "\n",
    "from sklearn.neural_network import MLPClassifier\n"
   ]
  },
  {
   "cell_type": "markdown",
   "id": "54ed77ff",
   "metadata": {},
   "source": [
    "# Read the database"
   ]
  },
  {
   "cell_type": "code",
   "execution_count": 20,
   "id": "cd62e2dd",
   "metadata": {},
   "outputs": [
    {
     "name": "stdout",
     "output_type": "stream",
     "text": [
      "Number of reviews in the database: 40000\n",
      "                                                text  label\n",
      "0  I grew up (b. 1965) watching and loving the Th...      0\n",
      "1  When I put this movie in my DVD player, and sa...      0\n",
      "2  Why do people who do not know what a particula...      0\n",
      "3  Even though I have great interest in Biblical ...      0\n",
      "4  Im a die hard Dads Army fan and nothing will e...      1\n"
     ]
    }
   ],
   "source": [
    "path = Path(\"datasets/movie.csv\")\n",
    "df = pd.read_csv(path, delimiter=\",\")\n",
    "\n",
    "print(f\"Number of reviews in the database: {len(df)}\")\n",
    "print(df.head())\n",
    "\n",
    "X = df[\"text\"].values\n",
    "y = df[\"label\"].values\n"
   ]
  },
  {
   "cell_type": "markdown",
   "id": "245ba7a4",
   "metadata": {},
   "source": [
    "# Preprocessing"
   ]
  },
  {
   "cell_type": "code",
   "execution_count": 24,
   "id": "9548bd1e",
   "metadata": {},
   "outputs": [
    {
     "name": "stdout",
     "output_type": "stream",
     "text": [
      "Number of features:\t84719\n"
     ]
    }
   ],
   "source": [
    "X_train, X_test, y_train, y_test = train_test_split(X, y, test_size=0.2, random_state=1)\n",
    "pre_pipe = Pipeline(steps=[(\"to-bag-of-words\", CountVectorizer()),\n",
    "                           (\"normalize\", TfidfTransformer())])\n",
    "\n",
    "X_train = pre_pipe.fit_transform(X_train)\n",
    "X_test = pre_pipe.transform(X_test)\n",
    "\n",
    "print(f\"Number of features:\\t{X_train.shape[1]}\")"
   ]
  },
  {
   "cell_type": "markdown",
   "id": "8c29e35c",
   "metadata": {},
   "source": [
    "Wow! That'a lot of features! But most of them are either unique, or ubiquitous... Let's filter some of them out!"
   ]
  },
  {
   "cell_type": "code",
   "execution_count": 25,
   "id": "9bda8a4a",
   "metadata": {},
   "outputs": [
    {
     "name": "stdout",
     "output_type": "stream",
     "text": [
      "Number of features:\t10240\n"
     ]
    }
   ],
   "source": [
    "X_train, X_test, y_train, y_test = train_test_split(X, y, test_size=0.2, random_state=1)\n",
    "\n",
    "# Remove words that appearinf with frequency < 1e-3 and > 0.8\n",
    "pre_pipe = Pipeline(steps=[(\"normalize\", TfidfVectorizer(min_df=1e-3, max_df = 0.8))])\n",
    "X_train = pre_pipe.fit_transform(X_train)\n",
    "X_test = pre_pipe.transform(X_test)\n",
    "print(f\"Number of features:\\t{X_train.shape[1]}\")"
   ]
  },
  {
   "cell_type": "markdown",
   "id": "e22817fc",
   "metadata": {},
   "source": [
    "# Regularisation coefficient optimization\n",
    "\n",
    "In this section, we implement a simple MLPClassifier consisting of only 1 hidden layer and try to optimize the regulation parameter $\\alpha$.\n",
    "\n",
    "A key problem of the bag-of-word approach is that the number of features is WAY greater than the number of samples. As a consequence, the algorithm is prone to overfitting, which reduces the validation score of the test data."
   ]
  },
  {
   "cell_type": "code",
   "execution_count": 26,
   "id": "4d44f4c7",
   "metadata": {},
   "outputs": [
    {
     "name": "stdout",
     "output_type": "stream",
     "text": [
      "============Step 1/6: alpha=1e-03============\n",
      "\tScore on test data:\t0.852625\n",
      "\tScore on train data:\t1.0\n",
      "============Step 2/6: alpha=3e-03============\n",
      "\tScore on test data:\t0.846125\n",
      "\tScore on train data:\t0.99959375\n",
      "============Step 3/6: alpha=1e-02============\n",
      "\tScore on test data:\t0.857875\n",
      "\tScore on train data:\t0.99653125\n",
      "============Step 4/6: alpha=3e-02============\n",
      "\tScore on test data:\t0.877625\n",
      "\tScore on train data:\t0.97675\n",
      "============Step 5/6: alpha=1e-01============\n",
      "\tScore on test data:\t0.8925\n",
      "\tScore on train data:\t0.94528125\n",
      "============Step 6/6: alpha=3e-01============\n",
      "\tScore on test data:\t0.887375\n",
      "\tScore on train data:\t0.91009375\n"
     ]
    }
   ],
   "source": [
    "ALPHA = np.logspace(-3, -0.5, 6)\n",
    "model = []\n",
    "score_test = []\n",
    "score_train = []\n",
    "for i, alpha in enumerate(ALPHA):\n",
    "    print(\"=\"*12 + f\"Step {i+1}/{len(ALPHA)}: alpha={alpha:.1e}\" + \"=\"*12)\n",
    "    n_feature = X_train.shape[1]\n",
    "    mlp = MLPClassifier(hidden_layer_sizes=(10), \n",
    "                        activation=\"relu\", solver=\"adam\", \n",
    "                        alpha=alpha, learning_rate_init=1e-3,\n",
    "                        random_state=1, verbose=False, batch_size=100)\n",
    "    mlp.fit(X_train, y_train)\n",
    "    \n",
    "    model.append(mlp)\n",
    "    sc_test = mlp.score(X_test, y_test)\n",
    "    sc_train = mlp.score(X_train, y_train)\n",
    "    print(f\"\\tScore on test data:\\t{sc_test}\")\n",
    "    print(f\"\\tScore on train data:\\t{sc_train}\")\n",
    "    score_test.append(sc_test)\n",
    "    score_train.append(sc_train)\n",
    "    \n"
   ]
  },
  {
   "cell_type": "code",
   "execution_count": 27,
   "id": "20423d8b",
   "metadata": {},
   "outputs": [
    {
     "data": {
      "image/png": "[encoded data removed]",
      "text/plain": [
       "<Figure size 640x480 with 1 Axes>"
      ]
     },
     "metadata": {},
     "output_type": "display_data"
    }
   ],
   "source": [
    "plt.semilogx(ALPHA, score_train,\"-o\")\n",
    "plt.xlabel(r\"Regularization $\\alpha$\")\n",
    "plt.ylabel(r\"Score\")\n",
    "plt.show()"
   ]
  },
  {
   "cell_type": "code",
   "execution_count": 28,
   "id": "85a9c770",
   "metadata": {},
   "outputs": [
    {
     "data": {
      "image/png": "[encoded data removed]",
      "text/plain": [
       "<Figure size 640x480 with 1 Axes>"
      ]
     },
     "metadata": {},
     "output_type": "display_data"
    }
   ],
   "source": [
    "plt.semilogx(ALPHA, score_test,\"-+\")\n",
    "plt.xlabel(r\"Regularization $\\alpha$\")\n",
    "plt.ylabel(r\"Score\")\n",
    "plt.show()"
   ]
  },
  {
   "cell_type": "markdown",
   "id": "61ccec32",
   "metadata": {},
   "source": [
    "# Optimization of the network architecture\n",
    "\n",
    "Let's try other networks and see how they perform!"
   ]
  },
  {
   "cell_type": "code",
   "execution_count": 30,
   "id": "95bd6165",
   "metadata": {},
   "outputs": [
    {
     "name": "stdout",
     "output_type": "stream",
     "text": [
      "============Step 1/5: layer=50============\n",
      "\tScore on test data:\t0.88625\n",
      "\tScore on train data:\t0.90396875\n",
      "============Step 2/5: layer=10============\n",
      "\tScore on test data:\t0.88825\n",
      "\tScore on train data:\t0.91215625\n",
      "============Step 3/5: layer=5============\n",
      "\tScore on test data:\t0.886625\n",
      "\tScore on train data:\t0.90909375\n",
      "============Step 4/5: layer=(10, 10)============\n",
      "\tScore on test data:\t0.887625\n",
      "\tScore on train data:\t0.96171875\n",
      "============Step 5/5: layer=(20, 5)============\n",
      "\tScore on test data:\t0.888375\n",
      "\tScore on train data:\t0.96215625\n"
     ]
    }
   ],
   "source": [
    "HIDDEN_LAYERS = [(50),(10),(5),(10, 10),(20, 5)]\n",
    "model = []\n",
    "score_test = []\n",
    "score_train = []\n",
    "for i, hidden_layers in enumerate(HIDDEN_LAYERS):\n",
    "    print(\"=\"*12 + f\"Step {i+1}/{len(HIDDEN_LAYERS)}: layer={hidden_layers}\" + \"=\"*12)\n",
    "    n_feature = X_train.shape[1]\n",
    "    mlp = MLPClassifier(hidden_layer_sizes=hidden_layers, \n",
    "                        activation=\"relu\", solver=\"adam\", \n",
    "                        alpha=0.1, learning_rate_init=1e-3,\n",
    "                        random_state=1, verbose=False, batch_size=100)\n",
    "    mlp.fit(X_train, y_train)\n",
    "    \n",
    "    model.append(mlp)\n",
    "    sc_test = mlp.score(X_test, y_test)\n",
    "    sc_train = mlp.score(X_train, y_train)\n",
    "    print(f\"\\tScore on test data:\\t{sc_test}\")\n",
    "    print(f\"\\tScore on train data:\\t{sc_train}\")\n",
    "    score_test.append(sc_test)\n",
    "    score_train.append(sc_train)\n",
    "    "
   ]
  },
  {
   "cell_type": "code",
   "execution_count": 35,
   "id": "9c0d8d82",
   "metadata": {},
   "outputs": [
    {
     "name": "stdout",
     "output_type": "stream",
     "text": [
      "\tScore on test data:\t0.892\n",
      "\tScore on train data:\t0.94196875\n"
     ]
    }
   ],
   "source": [
    "mlp = MLPClassifier(hidden_layer_sizes=(20,5), \n",
    "                    activation=\"relu\", solver=\"adam\", \n",
    "                    alpha=5e-1, learning_rate_init=1e-3,\n",
    "                    random_state=1, verbose=False, batch_size=100)\n",
    "mlp.fit(X_train, y_train)\n",
    "sc_test = mlp.score(X_test, y_test)\n",
    "sc_train = mlp.score(X_train, y_train)\n",
    "\n",
    "# model.append(mlp)\n",
    "# sc_test = mlp.score(X_test, y_test)\n",
    "# sc_train = mlp.score(X_train, y_train)\n",
    "print(f\"\\tScore on test data:\\t{sc_test}\")\n",
    "print(f\"\\tScore on train data:\\t{sc_train}\")\n",
    "# score_test.append(sc_test)\n",
    "# score_train.append(sc_train)\n"
   ]
  },
  {
   "cell_type": "code",
   "execution_count": 39,
   "id": "615932be",
   "metadata": {},
   "outputs": [
    {
     "name": "stdout",
     "output_type": "stream",
     "text": [
      "\tScore on test data:\t0.871375\n",
      "\tScore on train data:\t0.99153125\n"
     ]
    },
    {
     "name": "stderr",
     "output_type": "stream",
     "text": [
      "C:\\Users\\utric\\Anaconda3\\lib\\site-packages\\sklearn\\neural_network\\_multilayer_perceptron.py:617: ConvergenceWarning: Stochastic Optimizer: Maximum iterations (200) reached and the optimization hasn't converged yet.\n",
      "  % self.max_iter, ConvergenceWarning)\n"
     ]
    }
   ],
   "source": [
    "mlp = MLPClassifier(hidden_layer_sizes=(20,10), \n",
    "                    activation=\"relu\", solver=\"adam\", \n",
    "                    alpha=3e-1, learning_rate_init=1e-3,\n",
    "                    random_state=1, verbose=False, batch_size=200)\n",
    "mlp.fit(X_train, y_train)\n",
    "sc_test = mlp.score(X_test, y_test)\n",
    "sc_train = mlp.score(X_train, y_train)\n",
    "\n",
    "# model.append(mlp)\n",
    "# sc_test = mlp.score(X_test, y_test)\n",
    "# sc_train = mlp.score(X_train, y_train)\n",
    "print(f\"\\tScore on test data:\\t{sc_test}\")\n",
    "print(f\"\\tScore on train data:\\t{sc_train}\")\n",
    "# score_test.append(sc_test)\n",
    "# score_train.append(sc_train)\n"
   ]
  },
  {
   "cell_type": "markdown",
   "id": "d79419f1",
   "metadata": {},
   "source": [
    "# References\n",
    "Dataset:\n",
    "https://www.kaggle.com/yasserh/imdb-movie-ratings-sentiment-analysis\n"
   ]
  }
 ],
 "metadata": {
  "kernelspec": {
   "display_name": "Python 3",
   "language": "python",
   "name": "python3"
  },
  "language_info": {
   "codemirror_mode": {
    "name": "ipython",
    "version": 3
   },
   "file_extension": ".py",
   "mimetype": "text/x-python",
   "name": "python",
   "nbconvert_exporter": "python",
   "pygments_lexer": "ipython3",
   "version": "3.7.10"
  }
 },
 "nbformat": 4,
 "nbformat_minor": 5
}
